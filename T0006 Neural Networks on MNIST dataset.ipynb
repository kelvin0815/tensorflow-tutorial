{
 "cells": [
  {
   "cell_type": "code",
   "execution_count": 172,
   "metadata": {
    "collapsed": true
   },
   "outputs": [],
   "source": [
    "import tensorflow as tf\n",
    "import numpy as np\n",
    "import matplotlib.pyplot as plt\n",
    "import seaborn as sns"
   ]
  },
  {
   "cell_type": "markdown",
   "metadata": {},
   "source": [
    "### Load MNIST dataset"
   ]
  },
  {
   "cell_type": "code",
   "execution_count": 173,
   "metadata": {
    "collapsed": false,
    "scrolled": true
   },
   "outputs": [
    {
     "name": "stdout",
     "output_type": "stream",
     "text": [
      "Extracting MNIST_data/train-images-idx3-ubyte.gz\n",
      "Extracting MNIST_data/train-labels-idx1-ubyte.gz\n",
      "Extracting MNIST_data/t10k-images-idx3-ubyte.gz\n",
      "Extracting MNIST_data/t10k-labels-idx1-ubyte.gz\n"
     ]
    }
   ],
   "source": [
    "from tensorflow.examples.tutorials.mnist import input_data\n",
    "mnist = input_data.read_data_sets(\"MNIST_data/\", one_hot=True)"
   ]
  },
  {
   "cell_type": "code",
   "execution_count": 174,
   "metadata": {
    "collapsed": false
   },
   "outputs": [],
   "source": [
    "alpha = 5\n",
    "\n",
    "numTrainingSamples = mnist.train.images.shape[0] # 55000\n",
    "numFeatures = mnist.train.images.shape[1] # 784\n",
    "numClasses = mnist.train.labels.shape[1] # 10\n",
    "# numHiddenUnits = numTrainingSamples/(alpha * (numFeatures + numClasses))\n",
    "numHiddenUnits = 200\n",
    "numEpochs = 10000\n",
    "batchSize = 200"
   ]
  },
  {
   "cell_type": "markdown",
   "metadata": {},
   "source": [
    "### One-layer Neural Network"
   ]
  },
  {
   "cell_type": "code",
   "execution_count": 175,
   "metadata": {
    "collapsed": true
   },
   "outputs": [],
   "source": [
    "X = tf.placeholder(tf.float32, shape=[None, numFeatures])\n",
    "y = tf.placeholder(tf.float32, shape=[None, numClasses])"
   ]
  },
  {
   "cell_type": "code",
   "execution_count": 176,
   "metadata": {
    "collapsed": false
   },
   "outputs": [],
   "source": [
    "W1 = tf.Variable(tf.truncated_normal([numFeatures, numHiddenUnits], stddev=0.1))\n",
    "B1 = tf.Variable(tf.constant(0.1), [numHiddenUnits])\n",
    "\n",
    "W2 = tf.Variable(tf.truncated_normal([numHiddenUnits, numClasses], stddev=0.1))\n",
    "B2 = tf.Variable(tf.constant(0.1), [numClasses])"
   ]
  },
  {
   "cell_type": "code",
   "execution_count": 177,
   "metadata": {
    "collapsed": true
   },
   "outputs": [],
   "source": [
    "hiddenLayerOuput = tf.nn.relu(tf.matmul(X, W1) + B1)\n",
    "finalOutput = tf.nn.relu(tf.matmul(hiddenLayerOuput, W2) + B2)"
   ]
  },
  {
   "cell_type": "code",
   "execution_count": 178,
   "metadata": {
    "collapsed": false
   },
   "outputs": [],
   "source": [
    "loss = tf.reduce_mean(\n",
    "    tf.nn.softmax_cross_entropy_with_logits(\n",
    "        labels=y,\n",
    "        logits=finalOutput\n",
    "    )\n",
    ")\n",
    "\n",
    "optimizer = tf.train.GradientDescentOptimizer(0.1).minimize(loss)"
   ]
  },
  {
   "cell_type": "code",
   "execution_count": 179,
   "metadata": {
    "collapsed": false
   },
   "outputs": [],
   "source": [
    "correct_prediction = tf.equal(tf.argmax(finalOutput, 1), tf.argmax(y, 1))\n",
    "accuracy = tf.reduce_mean(tf.cast(correct_prediction, tf.float32))"
   ]
  },
  {
   "cell_type": "code",
   "execution_count": 180,
   "metadata": {
    "collapsed": false,
    "scrolled": true
   },
   "outputs": [
    {
     "name": "stdout",
     "output_type": "stream",
     "text": [
      "Iteration 1, training accuracy: 0.22\n",
      "Iteration 2, training accuracy: 0.295\n",
      "Iteration 3, training accuracy: 0.29\n",
      "Iteration 4, training accuracy: 0.325\n",
      "Iteration 5, training accuracy: 0.31\n",
      "Iteration 6, training accuracy: 0.35\n",
      "Iteration 7, training accuracy: 0.395\n",
      "Iteration 8, training accuracy: 0.415\n",
      "Iteration 9, training accuracy: 0.4\n",
      "Iteration 10, training accuracy: 0.47\n",
      "Iteration 11, training accuracy: 0.46\n",
      "Iteration 12, training accuracy: 0.46\n",
      "Iteration 13, training accuracy: 0.45\n",
      "Iteration 14, training accuracy: 0.555\n",
      "Iteration 15, training accuracy: 0.55\n",
      "Iteration 16, training accuracy: 0.595\n",
      "Iteration 17, training accuracy: 0.575\n",
      "Iteration 18, training accuracy: 0.565\n",
      "Iteration 19, training accuracy: 0.625\n",
      "Iteration 1000, training accuracy: 0.84\n",
      "Iteration 2000, training accuracy: 0.85\n",
      "Iteration 3000, training accuracy: 0.965\n",
      "Iteration 4000, training accuracy: 0.95\n",
      "Iteration 5000, training accuracy: 0.98\n",
      "Iteration 6000, training accuracy: 0.96\n",
      "Iteration 7000, training accuracy: 0.99\n",
      "Iteration 8000, training accuracy: 0.97\n",
      "Iteration 9000, training accuracy: 0.995\n",
      "Iteration 10000, training accuracy: 0.98\n"
     ]
    }
   ],
   "source": [
    "sess = tf.InteractiveSession()\n",
    "sess.run(tf.global_variables_initializer())\n",
    "\n",
    "for i in range(numEpochs):\n",
    "    batch = mnist.train.next_batch(batch_size=batchSize)\n",
    "    sess.run(optimizer, feed_dict={X: batch[0], y: batch[1]})\n",
    "    if ((i+1)<20 or (i+1)%1000 == 0):\n",
    "        batch_accuracy = accuracy.eval(feed_dict={X: batch[0], y: batch[1]})\n",
    "        print(\"Iteration %s, training accuracy: %s\" % ((i+1), batch_accuracy))"
   ]
  },
  {
   "cell_type": "code",
   "execution_count": 181,
   "metadata": {
    "collapsed": false
   },
   "outputs": [
    {
     "name": "stdout",
     "output_type": "stream",
     "text": [
      "==========================================================\n",
      "===== One-layer Neural Network with 200 hidden units =====\n",
      "==========================================================\n",
      "Training accuracy:\t 98.275 %\n",
      "Testing accuracy:\t 97.050 %\n",
      "\n",
      "Confusion Matrix: \n",
      "\n",
      "[[ 911    1   13    1    2   11   19   11    3    8]\n",
      " [   0 1124    3    1    0    1    3    0    3    0]\n",
      " [   1    3 1002    7    4    0    2    7    6    0]\n",
      " [   0    0    6  986    0    7    0    4    4    3]\n",
      " [   1    0    4    1  962    0    2    2    1    9]\n",
      " [   2    1    0    5    1  873    5    0    3    2]\n",
      " [   2    4    2    1    6    8  932    0    3    0]\n",
      " [   0    4   12    2    0    0    0 1000    3    7]\n",
      " [   1    1    5    6    6    4    6    4  940    1]\n",
      " [   2    6    1    6    6    6    0    5    2  975]]\n"
     ]
    }
   ],
   "source": [
    "training_accuracy = accuracy.eval(feed_dict={X: mnist.train.images, y: mnist.train.labels}) * 100\n",
    "testing_accuracy = accuracy.eval(feed_dict={X: mnist.test.images, y: mnist.test.labels}) * 100\n",
    "\n",
    "predictions = sess.run(tf.argmax(tf.nn.softmax(finalOutput), 1), feed_dict={X: mnist.test.images})\n",
    "labels = sess.run(tf.argmax(mnist.test.labels, 1))\n",
    "\n",
    "print(\"==========================================================\")\n",
    "print(\"===== One-layer Neural Network with %s hidden units =====\" % numHiddenUnits)\n",
    "print(\"==========================================================\")\n",
    "print(\"Training accuracy:\\t %.3f %%\" % training_accuracy)\n",
    "print(\"Testing accuracy:\\t %.3f %%\" % testing_accuracy)\n",
    "\n",
    "print(\"\\nConfusion Matrix: \\n\")\n",
    "print(sess.run(tf.confusion_matrix(labels=labels, predictions=predictions)))"
   ]
  },
  {
   "cell_type": "markdown",
   "metadata": {},
   "source": [
    "### Two-layter Neural Networks"
   ]
  },
  {
   "cell_type": "code",
   "execution_count": 201,
   "metadata": {
    "collapsed": true
   },
   "outputs": [],
   "source": [
    "alpha = 5\n",
    "\n",
    "numTrainingSamples = mnist.train.images.shape[0] # 55000\n",
    "numFeatures = mnist.train.images.shape[1] # 784\n",
    "numClasses = mnist.train.labels.shape[1] # 10\n",
    "# alpha = 5\n",
    "# numHiddenUnits = numTrainingSamples/(alpha * (numFeatures + numClasses))\n",
    "numHiddenUnits1 = 200\n",
    "numHiddenUnits2 = 200\n",
    "numEpochs = 10000\n",
    "batchSize = 200"
   ]
  },
  {
   "cell_type": "code",
   "execution_count": 202,
   "metadata": {
    "collapsed": true
   },
   "outputs": [],
   "source": [
    "X = tf.placeholder(tf.float32, shape=[None, numFeatures])\n",
    "y = tf.placeholder(tf.float32, shape=[None, numClasses])"
   ]
  },
  {
   "cell_type": "code",
   "execution_count": 203,
   "metadata": {
    "collapsed": true
   },
   "outputs": [],
   "source": [
    "W1 = tf.Variable(tf.truncated_normal([numFeatures, numHiddenUnits1], stddev=0.1))\n",
    "B1 = tf.Variable(tf.constant(0.1), [numHiddenUnits1])\n",
    "\n",
    "W2 = tf.Variable(tf.truncated_normal([numHiddenUnits1, numHiddenUnits2], stddev=0.1))\n",
    "B2 = tf.Variable(tf.constant(0.1), [numHiddenUnits2])\n",
    "\n",
    "W3 = tf.Variable(tf.truncated_normal([numHiddenUnits2, numClasses], stddev=0.1))\n",
    "B3 = tf.Variable(tf.constant(0.1), [numClasses])"
   ]
  },
  {
   "cell_type": "code",
   "execution_count": 204,
   "metadata": {
    "collapsed": true
   },
   "outputs": [],
   "source": [
    "hiddenLayer1Output = tf.nn.relu(tf.matmul(X, W1) + B1)\n",
    "hiddenLayer2Output = tf.nn.relu(tf.matmul(hiddenLayer1Output, W2) + B2)\n",
    "finalOutput = tf.nn.relu(tf.matmul(hiddenLayer2Output, W3) + B3)"
   ]
  },
  {
   "cell_type": "code",
   "execution_count": 207,
   "metadata": {
    "collapsed": true
   },
   "outputs": [],
   "source": [
    "correct_prediction = tf.equal(tf.argmax(finalOutput,1), tf.argmax(y,1))\n",
    "accuracy = tf.reduce_mean(tf.cast(correct_prediction, \"float\"))"
   ]
  },
  {
   "cell_type": "code",
   "execution_count": 208,
   "metadata": {
    "collapsed": true
   },
   "outputs": [],
   "source": [
    "loss = tf.reduce_mean(\n",
    "    tf.nn.softmax_cross_entropy_with_logits(\n",
    "        labels=y,\n",
    "        logits=finalOutput\n",
    "    )\n",
    ")\n",
    "\n",
    "optimizer = tf.train.GradientDescentOptimizer(0.1).minimize(loss)"
   ]
  },
  {
   "cell_type": "code",
   "execution_count": 209,
   "metadata": {
    "collapsed": false
   },
   "outputs": [
    {
     "name": "stdout",
     "output_type": "stream",
     "text": [
      "Iteration 1, training accuracy: 0.28\n",
      "Iteration 2, training accuracy: 0.23\n",
      "Iteration 3, training accuracy: 0.285\n",
      "Iteration 4, training accuracy: 0.34\n",
      "Iteration 5, training accuracy: 0.385\n",
      "Iteration 6, training accuracy: 0.365\n",
      "Iteration 7, training accuracy: 0.425\n",
      "Iteration 8, training accuracy: 0.46\n",
      "Iteration 9, training accuracy: 0.45\n",
      "Iteration 10, training accuracy: 0.46\n",
      "Iteration 11, training accuracy: 0.52\n",
      "Iteration 12, training accuracy: 0.64\n",
      "Iteration 13, training accuracy: 0.565\n",
      "Iteration 14, training accuracy: 0.55\n",
      "Iteration 15, training accuracy: 0.6\n",
      "Iteration 16, training accuracy: 0.59\n",
      "Iteration 17, training accuracy: 0.685\n",
      "Iteration 18, training accuracy: 0.655\n",
      "Iteration 19, training accuracy: 0.745\n",
      "Iteration 1000, training accuracy: 0.99\n",
      "Iteration 2000, training accuracy: 0.98\n",
      "Iteration 3000, training accuracy: 1.0\n",
      "Iteration 4000, training accuracy: 0.99\n",
      "Iteration 5000, training accuracy: 1.0\n",
      "Iteration 6000, training accuracy: 0.995\n",
      "Iteration 7000, training accuracy: 1.0\n",
      "Iteration 8000, training accuracy: 0.995\n",
      "Iteration 9000, training accuracy: 1.0\n",
      "Iteration 10000, training accuracy: 1.0\n"
     ]
    }
   ],
   "source": [
    "sess.run(tf.global_variables_initializer())\n",
    "\n",
    "for i in range(numEpochs):\n",
    "    batch = mnist.train.next_batch(batch_size=batchSize)\n",
    "    sess.run(optimizer, feed_dict={X: batch[0], y: batch[1]})\n",
    "    if ((i+1)<20 or (i+1)%1000 == 0):\n",
    "        batch_accuracy = accuracy.eval(feed_dict={X: batch[0], y: batch[1]})\n",
    "        print(\"Iteration %s, training accuracy: %s\" % ((i+1), batch_accuracy))"
   ]
  },
  {
   "cell_type": "code",
   "execution_count": 213,
   "metadata": {
    "collapsed": false,
    "scrolled": true
   },
   "outputs": [
    {
     "name": "stdout",
     "output_type": "stream",
     "text": [
      "=================================================================\n",
      "===== Two-layer Neural Network with (200, 200) hidden units =====\n",
      "=================================================================\n",
      "Training accuracy:\t 99.918 %\n",
      "Testing accuracy:\t 97.670 %\n",
      "\n",
      "Confusion Matrix: \n",
      "\n",
      "[[ 969    0    1    0    0    2    2    2    2    2]\n",
      " [   0 1123    2    3    0    0    2    1    4    0]\n",
      " [   4    1 1000    5    2    0    3   10    7    0]\n",
      " [   0    0    7  990    0    2    0    3    3    5]\n",
      " [   2    0    3    2  955    0    2    4    1   13]\n",
      " [   3    0    1   10    1  866    4    0    5    2]\n",
      " [   6    2    0    1    2    6  935    1    5    0]\n",
      " [   0    1    5    4    1    0    0 1009    4    4]\n",
      " [   4    0    3    8    4    2    5    4  942    2]\n",
      " [   1    3    0    4    8    2    2    7    4  978]]\n"
     ]
    }
   ],
   "source": [
    "training_accuracy = accuracy.eval(feed_dict={X: mnist.train.images, y: mnist.train.labels}) * 100\n",
    "testing_accuracy = accuracy.eval(feed_dict={X: mnist.test.images, y: mnist.test.labels}) * 100\n",
    "\n",
    "predictions = sess.run(tf.argmax(tf.nn.softmax(finalOutput), 1), feed_dict={X: mnist.test.images})\n",
    "labels = sess.run(tf.argmax(mnist.test.labels, 1))\n",
    "\n",
    "print(\"=================================================================\")\n",
    "print(\"===== Two-layer Neural Network with (%s, %s) hidden units =====\" % (numHiddenUnits1, numHiddenUnits2))\n",
    "print(\"=================================================================\")\n",
    "print(\"Training accuracy:\\t %.3f %%\" % training_accuracy)\n",
    "print(\"Testing accuracy:\\t %.3f %%\" % testing_accuracy)\n",
    "\n",
    "print(\"\\nConfusion Matrix: \\n\")\n",
    "print(sess.run(tf.confusion_matrix(labels=labels, predictions=predictions)))"
   ]
  },
  {
   "cell_type": "markdown",
   "metadata": {},
   "source": [
    "### Reference"
   ]
  },
  {
   "cell_type": "markdown",
   "metadata": {},
   "source": [
    "adeshpande3 - <a href=\"https://github.com/adeshpande3/Tensorflow-Programs-and-Tutorials/blob/master/Simple%20Neural%20Networks.ipynb\">Tensorflow-Programs-and-Tutorials</a>"
   ]
  }
 ],
 "metadata": {
  "kernelspec": {
   "display_name": "Python 2",
   "language": "python",
   "name": "python2"
  }
 },
 "nbformat": 4,
 "nbformat_minor": 2
}
