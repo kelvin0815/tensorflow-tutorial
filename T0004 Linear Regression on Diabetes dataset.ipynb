{
 "cells": [
  {
   "cell_type": "code",
   "execution_count": 23,
   "metadata": {
    "collapsed": true
   },
   "outputs": [],
   "source": [
    "import tensorflow as tf\n",
    "import numpy as np\n",
    "import seaborn as sns\n",
    "import matplotlib.pyplot as plt"
   ]
  },
  {
   "cell_type": "code",
   "execution_count": 24,
   "metadata": {
    "collapsed": true
   },
   "outputs": [],
   "source": [
    "# Params\n",
    "num_epochs = 50000\n",
    "num_features  = 10"
   ]
  },
  {
   "cell_type": "markdown",
   "metadata": {},
   "source": [
    "###  Load Diabetes dataset"
   ]
  },
  {
   "cell_type": "code",
   "execution_count": 25,
   "metadata": {
    "collapsed": false
   },
   "outputs": [],
   "source": [
    "from sklearn.datasets import load_diabetes\n",
    "# from sklearn.preprocessing import normalize\n",
    "from sklearn.model_selection import train_test_split\n",
    "\n",
    "diabetes = load_diabetes()\n",
    "\n",
    "diabetes_data = diabetes.data[:,:num_features]\n",
    "# diabetes_data = normalize(diabetes_data)\n",
    "diabetes_target = diabetes.target.reshape([diabetes.target.shape[0], 1])\n",
    "\n",
    "x_train, x_test, y_train, y_test = train_test_split(diabetes_data, diabetes_target, train_size=0.8, random_state=1)"
   ]
  },
  {
   "cell_type": "code",
   "execution_count": 26,
   "metadata": {
    "collapsed": false
   },
   "outputs": [
    {
     "name": "stdout",
     "output_type": "stream",
     "text": [
      "(353, 10)\n",
      "(353, 1)\n",
      "(89, 10)\n",
      "(89, 1)\n"
     ]
    }
   ],
   "source": [
    "print(x_train.shape)\n",
    "print(y_train.shape)\n",
    "print(x_test.shape)\n",
    "print(y_test.shape)"
   ]
  },
  {
   "cell_type": "markdown",
   "metadata": {},
   "source": [
    "###  Linear Regression Model"
   ]
  },
  {
   "cell_type": "code",
   "execution_count": 27,
   "metadata": {
    "collapsed": true
   },
   "outputs": [],
   "source": [
    "x = tf.placeholder(tf.float32, shape=[None, num_features])\n",
    "y = tf.placeholder(tf.float32, shape=[None, 1])\n",
    "\n",
    "W = tf.Variable(tf.random_normal([num_features, 1]))\n",
    "b = tf.Variable(tf.random_normal([1]))"
   ]
  },
  {
   "cell_type": "code",
   "execution_count": 28,
   "metadata": {
    "collapsed": true
   },
   "outputs": [],
   "source": [
    "y_prediction = tf.matmul(x, W) + b"
   ]
  },
  {
   "cell_type": "code",
   "execution_count": 29,
   "metadata": {
    "collapsed": true
   },
   "outputs": [],
   "source": [
    "loss = tf.reduce_mean(tf.square(y - y_prediction))\n",
    "optimizer = tf.train.GradientDescentOptimizer(.05).minimize(loss)"
   ]
  },
  {
   "cell_type": "code",
   "execution_count": 30,
   "metadata": {
    "collapsed": false,
    "scrolled": false
   },
   "outputs": [
    {
     "name": "stdout",
     "output_type": "stream",
     "text": [
      "Iteration 1: loss = 25034.3\n",
      "Iteration 2: loss = 21424.1\n",
      "Iteration 3: loss = 18499.0\n",
      "Iteration 4: loss = 16129.0\n",
      "Iteration 5: loss = 14208.5\n",
      "Iteration 6: loss = 12652.0\n",
      "Iteration 7: loss = 11390.6\n",
      "Iteration 8: loss = 10368.0\n",
      "Iteration 9: loss = 9538.96\n",
      "Iteration 5000: loss = 2976.01\n",
      "Iteration 10000: loss = 2865.17\n",
      "Iteration 15000: loss = 2850.47\n",
      "Iteration 20000: loss = 2847.73\n",
      "Iteration 25000: loss = 2846.88\n",
      "Iteration 30000: loss = 2846.41\n",
      "Iteration 35000: loss = 2846.06\n",
      "Iteration 40000: loss = 2845.74\n",
      "Iteration 45000: loss = 2845.46\n",
      "Iteration 50000: loss = 2845.19\n"
     ]
    }
   ],
   "source": [
    "sess = tf.InteractiveSession()\n",
    "sess.run(tf.global_variables_initializer())\n",
    "\n",
    "for i in range(num_epochs):\n",
    "    sess.run(optimizer, feed_dict={x: x_train, y: y_train})\n",
    "    if ((i+1)%5000==0 or (i+1)<10):\n",
    "        print(\"Iteration %s: loss = %s\" % (i+1, loss.eval(feed_dict={x: x_train, y: y_train})))"
   ]
  },
  {
   "cell_type": "code",
   "execution_count": 31,
   "metadata": {
    "collapsed": false
   },
   "outputs": [
    {
     "name": "stdout",
     "output_type": "stream",
     "text": [
      "Weight: \n",
      "[[ -30.72243881 -269.86355591  536.0958252   325.15301514  -80.06933594\n",
      "   -75.07720947 -236.65757751  102.434021    469.65005493   64.01979065]]\n",
      "Bias: \n",
      "[ 151.35310364]\n"
     ]
    }
   ],
   "source": [
    "print(\"Weight: \\n%s\"% sess.run(W).T)\n",
    "print(\"Bias: \\n%s\"% sess.run(b).T)"
   ]
  },
  {
   "cell_type": "code",
   "execution_count": 32,
   "metadata": {
    "collapsed": false
   },
   "outputs": [],
   "source": [
    "prediction_differences = np.absolute(sess.run(y_prediction, feed_dict={x: x_test}) - y_test)"
   ]
  },
  {
   "cell_type": "code",
   "execution_count": 33,
   "metadata": {
    "collapsed": false
   },
   "outputs": [
    {
     "name": "stdout",
     "output_type": "stream",
     "text": [
      "Diabetes value are off by average 42.0718398362.\n"
     ]
    }
   ],
   "source": [
    "print(\"Diabetes value are off by average %s.\" % np.mean(prediction_differences))"
   ]
  },
  {
   "cell_type": "markdown",
   "metadata": {},
   "source": [
    "### Data Visualization"
   ]
  },
  {
   "cell_type": "code",
   "execution_count": 34,
   "metadata": {
    "collapsed": true
   },
   "outputs": [],
   "source": [
    "prediction_differences = sess.run(y_prediction, feed_dict={x: x_test}) - y_test"
   ]
  },
  {
   "cell_type": "code",
   "execution_count": 35,
   "metadata": {
    "collapsed": false
   },
   "outputs": [
    {
     "data": {
      "image/png": "[encoded data removed]",
      "text/plain": [
       "<matplotlib.figure.Figure at 0x7f436c117e90>"
      ]
     },
     "metadata": {},
     "output_type": "display_data"
    }
   ],
   "source": [
    "sns.distplot(prediction_differences)\n",
    "plt.title(\"Prediction Difference Distribution\")\n",
    "plt.show()"
   ]
  },
  {
   "cell_type": "code",
   "execution_count": null,
   "metadata": {
    "collapsed": true
   },
   "outputs": [],
   "source": []
  }
 ],
 "metadata": {
  "kernelspec": {
   "display_name": "Python 2",
   "language": "python",
   "name": "python2"
  },
  "language_info": {
   "codemirror_mode": {
    "name": "ipython",
    "version": 2
   },
   "file_extension": ".py",
   "mimetype": "text/x-python",
   "name": "python",
   "nbconvert_exporter": "python",
   "pygments_lexer": "ipython2",
   "version": "2.7.13"
  }
 },
 "nbformat": 4,
 "nbformat_minor": 2
}
