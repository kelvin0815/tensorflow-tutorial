{
 "cells": [
  {
   "cell_type": "code",
   "execution_count": 1,
   "metadata": {
    "collapsed": true
   },
   "outputs": [],
   "source": [
    "import tensorflow as tf\n",
    "import numpy as np\n",
    "import seaborn as sns\n",
    "import matplotlib.pyplot as plt"
   ]
  },
  {
   "cell_type": "markdown",
   "metadata": {},
   "source": [
    "### Load Breast Cancer dataset"
   ]
  },
  {
   "cell_type": "code",
   "execution_count": 2,
   "metadata": {
    "collapsed": false
   },
   "outputs": [],
   "source": [
    "from sklearn.datasets import load_breast_cancer\n",
    "from sklearn.model_selection import train_test_split\n",
    "\n",
    "breast_cancer = load_breast_cancer()\n",
    "\n",
    "breast_cancer_data = breast_cancer.data\n",
    "breast_cancer_target = breast_cancer.target.reshape((breast_cancer.target.shape[0], 1))\n",
    "# Binary One-hot Encoding\n",
    "breast_cancer_target = np.array([[0.,1.] if ele==[1] else [1.,0.] for ele in breast_cancer_target])\n",
    "\n",
    "x_train, x_test, y_train, y_test = train_test_split(\n",
    "    breast_cancer_data,\n",
    "    breast_cancer_target,\n",
    "    train_size=0.8,\n",
    "    random_state=1\n",
    ")"
   ]
  },
  {
   "cell_type": "code",
   "execution_count": 3,
   "metadata": {
    "collapsed": false
   },
   "outputs": [
    {
     "name": "stdout",
     "output_type": "stream",
     "text": [
      "((455, 30), (455, 2), (114, 30), (114, 2))\n"
     ]
    }
   ],
   "source": [
    "print(x_train.shape, y_train.shape, x_test.shape, y_test.shape)"
   ]
  },
  {
   "cell_type": "code",
   "execution_count": 4,
   "metadata": {
    "collapsed": false,
    "scrolled": true
   },
   "outputs": [],
   "source": [
    "# Params\n",
    "num_epochs = 50000\n",
    "num_features = x_train.shape[1]"
   ]
  },
  {
   "cell_type": "markdown",
   "metadata": {},
   "source": [
    "### Logistic Regression Model"
   ]
  },
  {
   "cell_type": "code",
   "execution_count": 5,
   "metadata": {
    "collapsed": true
   },
   "outputs": [],
   "source": [
    "x = tf.placeholder(tf.float32, shape=[None, num_features])\n",
    "y = tf.placeholder(tf.float32, shape=[None, 2])\n",
    "y_ = tf.placeholder(tf.float32, shape=[None, 2])"
   ]
  },
  {
   "cell_type": "code",
   "execution_count": 6,
   "metadata": {
    "collapsed": true
   },
   "outputs": [],
   "source": [
    "W = tf.Variable(tf.random_normal([num_features, 2]))\n",
    "b = tf.Variable(tf.random_normal([2]))"
   ]
  },
  {
   "cell_type": "code",
   "execution_count": 7,
   "metadata": {
    "collapsed": false
   },
   "outputs": [],
   "source": [
    "sess = tf.InteractiveSession()\n",
    "sess.run(tf.global_variables_initializer())"
   ]
  },
  {
   "cell_type": "code",
   "execution_count": 8,
   "metadata": {
    "collapsed": false
   },
   "outputs": [],
   "source": [
    "regression = tf.matmul(x, W) + b"
   ]
  },
  {
   "cell_type": "code",
   "execution_count": 9,
   "metadata": {
    "collapsed": true
   },
   "outputs": [],
   "source": [
    "cross_entropy = tf.reduce_mean(\n",
    "    tf.nn.softmax_cross_entropy_with_logits(\n",
    "        labels=y_, \n",
    "        logits=regression\n",
    "    )\n",
    ")"
   ]
  },
  {
   "cell_type": "code",
   "execution_count": 30,
   "metadata": {
    "collapsed": false
   },
   "outputs": [],
   "source": [
    "optimizer = tf.train.AdamOptimizer(0.05).minimize(cross_entropy)"
   ]
  },
  {
   "cell_type": "code",
   "execution_count": 31,
   "metadata": {
    "collapsed": false,
    "scrolled": true
   },
   "outputs": [
    {
     "name": "stdout",
     "output_type": "stream",
     "text": [
      "Iteration: 1, cross entropy = 192.057\n",
      "Iteration: 2, cross entropy = 97.4778\n",
      "Iteration: 3, cross entropy = 33.2319\n",
      "Iteration: 4, cross entropy = 21.947\n",
      "Iteration: 5, cross entropy = 56.9302\n",
      "Iteration: 6, cross entropy = 83.1425\n",
      "Iteration: 7, cross entropy = 89.971\n",
      "Iteration: 8, cross entropy = 81.7798\n",
      "Iteration: 9, cross entropy = 62.7296\n",
      "Iteration: 2000, cross entropy = 0.192401\n",
      "Iteration: 4000, cross entropy = 0.150844\n",
      "Iteration: 6000, cross entropy = 0.135201\n",
      "Iteration: 8000, cross entropy = 0.125614\n",
      "Iteration: 10000, cross entropy = 0.113907\n",
      "Iteration: 12000, cross entropy = 0.109724\n",
      "Iteration: 14000, cross entropy = 0.138837\n",
      "Iteration: 16000, cross entropy = 0.0860124\n",
      "Iteration: 18000, cross entropy = 0.0753474\n",
      "Iteration: 20000, cross entropy = 0.067818\n",
      "Iteration: 22000, cross entropy = 0.374407\n",
      "Iteration: 24000, cross entropy = 0.113615\n",
      "Iteration: 26000, cross entropy = 0.0787765\n",
      "Iteration: 28000, cross entropy = 0.124623\n",
      "Iteration: 30000, cross entropy = 0.0727541\n",
      "Iteration: 32000, cross entropy = 0.112362\n",
      "Iteration: 34000, cross entropy = 0.0621146\n",
      "Iteration: 36000, cross entropy = 0.0624803\n",
      "Iteration: 38000, cross entropy = 0.0755234\n",
      "Iteration: 40000, cross entropy = 0.0606025\n",
      "Iteration: 42000, cross entropy = 0.0625999\n",
      "Iteration: 44000, cross entropy = 0.0882986\n",
      "Iteration: 46000, cross entropy = 0.0671143\n",
      "Iteration: 48000, cross entropy = 0.0809363\n",
      "Iteration: 50000, cross entropy = 0.0893226\n"
     ]
    }
   ],
   "source": [
    "sess = tf.InteractiveSession()\n",
    "sess.run(tf.global_variables_initializer())\n",
    "\n",
    "for i in range(num_epochs):\n",
    "    sess.run(optimizer, feed_dict={x: x_train, y_: y_train})\n",
    "    if ((i+1)<10 or (i+1)%2000==0):\n",
    "        print(\"Iteration: %s, cross entropy = %s\" % \n",
    "              ((i+1), \n",
    "               cross_entropy.eval(feed_dict={x: x_train, y_: y_train})\n",
    "              )\n",
    "             )"
   ]
  },
  {
   "cell_type": "code",
   "execution_count": 32,
   "metadata": {
    "collapsed": false,
    "scrolled": true
   },
   "outputs": [],
   "source": [
    "softmax_regression = tf.nn.softmax(regression)"
   ]
  },
  {
   "cell_type": "code",
   "execution_count": 33,
   "metadata": {
    "collapsed": false
   },
   "outputs": [],
   "source": [
    "correct_prediction = tf.equal(tf.argmax(softmax_regression, 1), tf.argmax(y_test, 1))\n",
    "accuracy = tf.reduce_mean(tf.cast(correct_prediction, tf.float32)) * 100."
   ]
  },
  {
   "cell_type": "code",
   "execution_count": 34,
   "metadata": {
    "collapsed": false,
    "scrolled": true
   },
   "outputs": [
    {
     "name": "stdout",
     "output_type": "stream",
     "text": [
      "accuray: 96.4912 %\n"
     ]
    }
   ],
   "source": [
    "print(\"accuray: %s %%\" % accuracy.eval(feed_dict={x:x_test, y:y_test}))"
   ]
  },
  {
   "cell_type": "code",
   "execution_count": 36,
   "metadata": {
    "collapsed": false
   },
   "outputs": [
    {
     "name": "stdout",
     "output_type": "stream",
     "text": [
      "Confusion Matrix: \n",
      "[[39  3]\n",
      " [ 1 71]]\n"
     ]
    }
   ],
   "source": [
    "predictions = sess.run(tf.argmax(softmax_regression, 1), feed_dict={x: x_test})\n",
    "labels = sess.run(tf.argmax(y_test, 1))\n",
    "print(\"Confusion Matrix: \")\n",
    "print(sess.run(tf.confusion_matrix(labels=labels, predictions=predictions)))"
   ]
  },
  {
   "cell_type": "code",
   "execution_count": null,
   "metadata": {
    "collapsed": true
   },
   "outputs": [],
   "source": []
  }
 ],
 "metadata": {
  "kernelspec": {
   "display_name": "Python 2",
   "language": "python",
   "name": "python2"
  },
  "language_info": {
   "codemirror_mode": {
    "name": "ipython",
    "version": 2
   },
   "file_extension": ".py",
   "mimetype": "text/x-python",
   "name": "python",
   "nbconvert_exporter": "python",
   "pygments_lexer": "ipython2",
   "version": "2.7.13"
  }
 },
 "nbformat": 4,
 "nbformat_minor": 2
}
