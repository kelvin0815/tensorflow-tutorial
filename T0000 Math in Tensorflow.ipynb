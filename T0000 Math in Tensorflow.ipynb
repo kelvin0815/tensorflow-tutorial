{
 "cells": [
  {
   "cell_type": "code",
   "execution_count": 1,
   "metadata": {
    "collapsed": true
   },
   "outputs": [],
   "source": [
    "import tensorflow as tf"
   ]
  },
  {
   "cell_type": "markdown",
   "metadata": {},
   "source": [
    "### Constants"
   ]
  },
  {
   "cell_type": "code",
   "execution_count": 2,
   "metadata": {
    "collapsed": true
   },
   "outputs": [],
   "source": [
    "x = tf.constant(1.0)\n",
    "y = tf.constant(2.0)"
   ]
  },
  {
   "cell_type": "markdown",
   "metadata": {},
   "source": [
    "Tensorflow does not print out variables and constans as expected. Session should be used to evaluate variables and constants."
   ]
  },
  {
   "cell_type": "code",
   "execution_count": 3,
   "metadata": {
    "collapsed": false,
    "scrolled": true
   },
   "outputs": [
    {
     "name": "stdout",
     "output_type": "stream",
     "text": [
      "(<tf.Tensor 'Const:0' shape=() dtype=float32>, <tf.Tensor 'Const_1:0' shape=() dtype=float32>)\n"
     ]
    }
   ],
   "source": [
    "print(x, y)"
   ]
  },
  {
   "cell_type": "code",
   "execution_count": 11,
   "metadata": {
    "collapsed": false,
    "scrolled": true
   },
   "outputs": [
    {
     "name": "stdout",
     "output_type": "stream",
     "text": [
      "[1.0, 2.0]\n"
     ]
    }
   ],
   "source": [
    "# Option 1\n",
    "sess = tf.InteractiveSession()\n",
    "print(sess.run([x, y]))"
   ]
  },
  {
   "cell_type": "code",
   "execution_count": 12,
   "metadata": {
    "collapsed": false
   },
   "outputs": [
    {
     "name": "stdout",
     "output_type": "stream",
     "text": [
      "1.0\n",
      "2.0\n"
     ]
    }
   ],
   "source": [
    "# Option 2\n",
    "print(x.eval(session=sess))\n",
    "print(y.eval(session=sess))"
   ]
  },
  {
   "cell_type": "code",
   "execution_count": 23,
   "metadata": {
    "collapsed": false
   },
   "outputs": [
    {
     "name": "stdout",
     "output_type": "stream",
     "text": [
      "Add x and y: 3.0\n",
      "minus x from y: 1.0\n",
      "Multiply x and y: 2.0\n",
      "Divide x by y: 0.5\n",
      "Floor Divide x by y: 0.0\n"
     ]
    }
   ],
   "source": [
    "# Operations\n",
    "print(\"Add x and y: %s\" % sess.run(tf.add(x, y)))\n",
    "print(\"minus x from y: %s\" % sess.run(tf.subtract(y, x)))\n",
    "print(\"Multiply x and y: %s\" % sess.run(tf.multiply(x, y)))\n",
    "print(\"Divide x by y: %s\" % sess.run(tf.divide(x, y)))\n",
    "print(\"Floor Divide x by y: %s\" % sess.run(tf.floor_div(x, y)))"
   ]
  },
  {
   "cell_type": "markdown",
   "metadata": {},
   "source": [
    "### Matrices"
   ]
  },
  {
   "cell_type": "markdown",
   "metadata": {},
   "source": [
    "We use a lot of linear algebra in deep learning. The following cell shows ways to create matrices. These matrices are Tensorflow variables which can be changed. This can be used as weights during training phase in machine learning problems."
   ]
  },
  {
   "cell_type": "code",
   "execution_count": 47,
   "metadata": {
    "collapsed": true
   },
   "outputs": [],
   "source": [
    "# Randomly initialize 3 x 4 matrix drawn from normal distribution\n",
    "W1 = tf.Variable(tf.random_normal([3, 4]))\n",
    "\n",
    "# Randomly initialize 2 x 3 matrix drawn from normal distribution\n",
    "W2 = tf.Variable(tf.random_uniform([2, 3]))\n",
    "\n",
    "# Initialize 3 x 3 matrix full of ones\n",
    "W3 = tf.Variable(tf.ones([3, 3]))\n",
    "\n",
    "# Initialize 3 x 3 matrix full of zeros\n",
    "W4 = tf.Variable(tf.zeros([3, 3]))\n",
    "\n",
    "# Creates a matrix of ones with the same shape as the matrix you pass in ones_like\n",
    "W5 = tf.Variable(tf.ones_like(W1))"
   ]
  },
  {
   "cell_type": "markdown",
   "metadata": {},
   "source": [
    "We must initialize variables before evaluating/using them."
   ]
  },
  {
   "cell_type": "code",
   "execution_count": 52,
   "metadata": {
    "collapsed": false,
    "scrolled": true
   },
   "outputs": [
    {
     "name": "stdout",
     "output_type": "stream",
     "text": [
      "[[ 1.07220864 -1.02482951 -0.4249036  -1.48827875]\n",
      " [ 0.56416553  0.57863921 -0.05577075  1.81071723]\n",
      " [ 0.23965578 -1.9904902  -0.32923701 -0.82141447]]\n",
      "\n",
      "[[ 0.68553174  0.49119639  0.39936161]\n",
      " [ 0.23536444  0.04026151  0.98675299]]\n",
      "\n",
      "[[ 1.  1.  1.]\n",
      " [ 1.  1.  1.]\n",
      " [ 1.  1.  1.]]\n",
      "\n",
      "[[ 0.  0.  0.]\n",
      " [ 0.  0.  0.]\n",
      " [ 0.  0.  0.]]\n",
      "\n",
      "[[ 1.  1.  1.  1.]\n",
      " [ 1.  1.  1.  1.]\n",
      " [ 1.  1.  1.  1.]]\n",
      "\n"
     ]
    }
   ],
   "source": [
    "sess.run(tf.global_variables_initializer())\n",
    "\n",
    "matrices = [W1, W2, W3, W4, W5]\n",
    "\n",
    "for mat in matrices:\n",
    "    print(mat.eval(session=sess))\n",
    "    print(\"\")"
   ]
  },
  {
   "cell_type": "code",
   "execution_count": 69,
   "metadata": {
    "collapsed": false
   },
   "outputs": [
    {
     "name": "stdout",
     "output_type": "stream",
     "text": [
      "(TensorShape([Dimension(3), Dimension(3)]), TensorShape([Dimension(3), Dimension(3)]))\n",
      "[[-0.8968423   0.58434373 -2.33999085]\n",
      " [-0.47561941  1.46888912  1.86409414]\n",
      " [-0.27543172  0.86862177  0.01547491]]\n",
      "\n",
      "[[ 1.05537069  0.59237576  0.28451738]\n",
      " [-0.73720354 -1.28444219 -0.96619344]\n",
      " [ 0.71644503 -1.19592607 -1.29383826]]\n",
      "\n",
      "[[ 0.15852839  1.17671943 -2.05547357]\n",
      " [-1.21282291  0.18444693  0.8979007 ]\n",
      " [ 0.44101331 -0.3273043  -1.27836335]]\n",
      "\n",
      "[[-1.95221305 -0.00803202 -2.62450814]\n",
      " [ 0.26158413  2.75333118  2.83028746]\n",
      " [-0.99187672  2.06454778  1.30931318]]\n",
      "\n",
      "[[-3.05375624  1.51663256  2.2078135 ]\n",
      " [-0.24930406 -4.39776707 -3.96638942]\n",
      " [-0.91994667 -1.2973603  -0.93764377]]\n",
      "\n"
     ]
    }
   ],
   "source": [
    "# Matrix Operations\n",
    "M1 = tf.Variable(tf.random_normal([3, 3]))\n",
    "M2 = tf.Variable(tf.random_normal([3, 3]))\n",
    "\n",
    "print(M1.shape, M2.shape)\n",
    "\n",
    "sess.run(tf.global_variables_initializer())\n",
    "\n",
    "new_matrices = [M1, M2, M1+M2, M1-M2, tf.matmul(M1, M2)]\n",
    "\n",
    "for mat in new_matrices:\n",
    "    print(sess.run(mat))\n",
    "    print(\"\")"
   ]
  },
  {
   "cell_type": "markdown",
   "metadata": {},
   "source": [
    "### Placeholder"
   ]
  },
  {
   "cell_type": "markdown",
   "metadata": {},
   "source": [
    "Placeholder is used to tell Tensorflow that \"Values will be input later\", we can define a series of computations without knowing the actual value of Placeholder."
   ]
  },
  {
   "cell_type": "code",
   "execution_count": 71,
   "metadata": {
    "collapsed": false
   },
   "outputs": [],
   "source": [
    "c = tf.placeholder(tf.float32)\n",
    "d = tf.placeholder(tf.float32)"
   ]
  },
  {
   "cell_type": "code",
   "execution_count": 73,
   "metadata": {
    "collapsed": false
   },
   "outputs": [
    {
     "data": {
      "text/plain": [
       "2.0"
      ]
     },
     "execution_count": 73,
     "metadata": {},
     "output_type": "execute_result"
    }
   ],
   "source": [
    "sess.run(c * d, feed_dict={c: 1.0, d: 2.0})"
   ]
  }
 ],
 "metadata": {
  "kernelspec": {
   "display_name": "Python 2",
   "language": "python",
   "name": "python2"
  },
  "language_info": {
   "codemirror_mode": {
    "name": "ipython",
    "version": 2
   },
   "file_extension": ".py",
   "mimetype": "text/x-python",
   "name": "python",
   "nbconvert_exporter": "python",
   "pygments_lexer": "ipython2",
   "version": "2.7.13"
  }
 },
 "nbformat": 4,
 "nbformat_minor": 2
}
